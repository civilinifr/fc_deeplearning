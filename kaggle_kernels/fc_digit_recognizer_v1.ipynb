{
 "cells": [
  {
   "cell_type": "markdown",
   "metadata": {},
   "source": [
    "## Number recognizer"
   ]
  },
  {
   "cell_type": "markdown",
   "metadata": {},
   "source": [
    "This code is for the digit recognizer Kaggle competition\n",
    "https://www.kaggle.com/c/digit-recognizer"
   ]
  },
  {
   "cell_type": "markdown",
   "metadata": {},
   "source": [
    "Note: Use the following line for debugging in Jupyter"
   ]
  },
  {
   "cell_type": "code",
   "execution_count": 1,
   "metadata": {},
   "outputs": [],
   "source": [
    "# from IPython.core.debugger import Tracer; Tracer()()"
   ]
  },
  {
   "cell_type": "markdown",
   "metadata": {},
   "source": [
    "# Preprocessing (Run only once)"
   ]
  },
  {
   "cell_type": "markdown",
   "metadata": {},
   "source": [
    "Metacode:\n",
    "1. Convert each part of the grid into separate images\n",
    "2. For each image, keep a log of what number it is (CSV). This is similar to the planet multiclassification.\n",
    "\n",
    "Note: The training and test models are slightly different, so a new function is necessary (for this silly version 1)"
   ]
  },
  {
   "cell_type": "markdown",
   "metadata": {},
   "source": [
    "## Import packages"
   ]
  },
  {
   "cell_type": "code",
   "execution_count": 14,
   "metadata": {},
   "outputs": [],
   "source": [
    "import csv\n",
    "import numpy as np\n",
    "import png"
   ]
  },
  {
   "cell_type": "markdown",
   "metadata": {},
   "source": [
    "## Definitions"
   ]
  },
  {
   "cell_type": "code",
   "execution_count": 44,
   "metadata": {},
   "outputs": [],
   "source": [
    "# Read in the data from the training CSV file and convert to a png\n",
    "def read_training(input_file):\n",
    "    with open(input_file) as f:\n",
    "        # Create a csv reader object.\n",
    "        reader = csv.reader(f,delimiter=',')\n",
    "        has_header = csv.Sniffer().has_header(f.read(1024))\n",
    "        f.seek(0)  # rewind\n",
    "        incsv = csv.reader(f)\n",
    "        if has_header:\n",
    "            next(incsv)  # skip header row\n",
    "            \n",
    "        # Write in the image number and result in a csv file\n",
    "        # First we create it, so we delete any previous versions\n",
    "        g = open(f'{output_dir}train_output.txt', 'w')\n",
    "        g.write('id,num\\n')\n",
    "        \n",
    "        # Store the latitudes and longitudes in the appropriate lists.\n",
    "        for row in reader:\n",
    "            \n",
    "            # Come up with an image name based on the row number with trailing zeros\n",
    "            image_number = \"%05d\" % (reader.line_num,)\n",
    "            \n",
    "            # Add the image name and the representative number of the image to the csv file\n",
    "            g.write('{0},{1}\\n'.format(f'image_{image_number}', row[0]))\n",
    "            \n",
    "            # Remove the first number and shape the list into a 2D Numpy array\n",
    "            row.pop(0)\n",
    "            pixel_2d_array = np.array(row).reshape(28,28)\n",
    "            \n",
    "            # Save the pixel array as a jpg\n",
    "            f = open(f'{train_image_output}image_{image_number}.png', 'wb')      # binary mode is important\n",
    "            w = png.Writer(28, 28, greyscale=True)\n",
    "            w.write(f, pixel_2d_array)\n",
    "            f.close()\n",
    "    \n",
    "#             from IPython.core.debugger import Tracer; Tracer()() \n",
    "            \n",
    "    return\n",
    "        "
   ]
  },
  {
   "cell_type": "code",
   "execution_count": 21,
   "metadata": {},
   "outputs": [],
   "source": [
    "# Read in the data from the test CSV file and convert to a png\n",
    "def read_test(input_file):\n",
    "    with open(input_file) as f:\n",
    "        # Create a csv reader object.\n",
    "        reader = csv.reader(f,delimiter=',')\n",
    "        has_header = csv.Sniffer().has_header(f.read(1024))\n",
    "        f.seek(0)  # rewind\n",
    "        incsv = csv.reader(f)\n",
    "        if has_header:\n",
    "            next(incsv)  # skip header row\n",
    "        \n",
    "        # Store the latitudes and longitudes in the appropriate lists.\n",
    "        for row in reader:\n",
    "            \n",
    "            # Come up with an image name based on the row number with trailing zeros\n",
    "            image_number = \"%05d\" % (reader.line_num,)\n",
    "                        \n",
    "            # Shape the list into a 2D Numpy array\n",
    "            pixel_2d_array = np.array(row).reshape(28,28)\n",
    "            \n",
    "            # Save the pixel array as a jpg\n",
    "            f = open(f'{test_image_output}image_{image_number}.png', 'wb')      # binary mode is important\n",
    "            w = png.Writer(28, 28, greyscale=True)\n",
    "            w.write(f, pixel_2d_array)\n",
    "            f.close()\n",
    "    \n",
    "#             from IPython.core.debugger import Tracer; Tracer()() \n",
    "            \n",
    "    return\n",
    "        "
   ]
  },
  {
   "cell_type": "markdown",
   "metadata": {},
   "source": [
    "## Main"
   ]
  },
  {
   "cell_type": "code",
   "execution_count": 45,
   "metadata": {},
   "outputs": [],
   "source": [
    "trainfile = '/home/paperspace/kaggle_projects/digit_recognizer/train.csv'\n",
    "testfile = '/home/paperspace/kaggle_projects/digit_recognizer/test.csv'\n",
    "output_dir = '/home/paperspace/kaggle_projects/digit_recognizer/output/'\n",
    "train_image_output = '/home/paperspace/kaggle_projects/digit_recognizer/output/train_images/'\n",
    "test_image_output = '/home/paperspace/kaggle_projects/digit_recognizer/output/test_images/'"
   ]
  },
  {
   "cell_type": "code",
   "execution_count": 46,
   "metadata": {},
   "outputs": [],
   "source": [
    "# Read the training data and convert to png\n",
    "read_training(trainfile)"
   ]
  },
  {
   "cell_type": "code",
   "execution_count": 25,
   "metadata": {},
   "outputs": [],
   "source": [
    "# Read the test data and convert to png\n",
    "read_test(testfile)"
   ]
  },
  {
   "cell_type": "markdown",
   "metadata": {},
   "source": [
    "The data is now preprocessed and converted to png images."
   ]
  },
  {
   "cell_type": "markdown",
   "metadata": {},
   "source": [
    "# Create a model using the training data"
   ]
  },
  {
   "cell_type": "markdown",
   "metadata": {},
   "source": [
    "## Import Packages"
   ]
  },
  {
   "cell_type": "code",
   "execution_count": 4,
   "metadata": {},
   "outputs": [],
   "source": [
    "import sys\n",
    "sys.path.append('/home/paperspace/fastai')\n",
    "from fastai.imports import *\n",
    "from fastai.torch_imports import *\n",
    "from fastai.transforms import *\n",
    "from fastai.conv_learner import *\n",
    "from fastai.model import *\n",
    "from fastai.dataset import *\n",
    "from fastai.sgdr import *\n",
    "from fastai.plots import *"
   ]
  },
  {
   "cell_type": "markdown",
   "metadata": {},
   "source": [
    "## Setup definitions"
   ]
  },
  {
   "cell_type": "code",
   "execution_count": 5,
   "metadata": {},
   "outputs": [],
   "source": [
    "# # Only return data if it is greater than a certain size\n",
    "# def get_data(sz,bs):\n",
    "#     tfms = tfms_from_model(arch, sz, aug_tfms=transforms_side_on, max_zoom=1.1)\n",
    "#     data = ImageClassifierData.from_csv(output_directory, 'train_images', label_csv, test_name='test_images', \n",
    "#                                     val_idxs=val_idxs, suffix='.png', tfms=tfms, bs=bs)\n",
    "    \n",
    "#     return data if sz>300 else data.resize(340,'tmp')"
   ]
  },
  {
   "cell_type": "code",
   "execution_count": 6,
   "metadata": {},
   "outputs": [],
   "source": [
    "#ImageClassifierData.from_csv??"
   ]
  },
  {
   "cell_type": "markdown",
   "metadata": {},
   "source": [
    "## Main"
   ]
  },
  {
   "cell_type": "code",
   "execution_count": 7,
   "metadata": {},
   "outputs": [],
   "source": [
    "#torch.cuda.set_device(1)\n",
    "input_directory = '/home/paperspace/kaggle_projects/digit_recognizer/output/train_images/'\n",
    "output_directory = '/home/paperspace/kaggle_projects/digit_recognizer/output/'\n",
    "label_csv = '/home/paperspace/kaggle_projects/digit_recognizer/output/train_output.txt' "
   ]
  },
  {
   "cell_type": "code",
   "execution_count": 8,
   "metadata": {},
   "outputs": [],
   "source": [
    "# sz is the size that images will be resized to\n",
    "sz = 224\n",
    "\n",
    "# arch is the pre-trained model that we will be using in this instance\n",
    "#arch=resnext101_64 # This may be broken\n",
    "arch=resnet34\n",
    "\n",
    "# bs is batch size\n",
    "bs=58\n",
    "\n",
    "# Find the total number of entries in the label file and take a random sampling (20%) for the validation set\n",
    "n = len(list(open(label_csv)))-1\n",
    "val_idxs=get_cv_idxs(n)"
   ]
  },
  {
   "cell_type": "code",
   "execution_count": 9,
   "metadata": {},
   "outputs": [
    {
     "data": {
      "text/html": [
       "<div>\n",
       "<style scoped>\n",
       "    .dataframe tbody tr th:only-of-type {\n",
       "        vertical-align: middle;\n",
       "    }\n",
       "\n",
       "    .dataframe tbody tr th {\n",
       "        vertical-align: top;\n",
       "    }\n",
       "\n",
       "    .dataframe thead th {\n",
       "        text-align: right;\n",
       "    }\n",
       "</style>\n",
       "<table border=\"1\" class=\"dataframe\">\n",
       "  <thead>\n",
       "    <tr style=\"text-align: right;\">\n",
       "      <th></th>\n",
       "      <th>id</th>\n",
       "      <th>num</th>\n",
       "    </tr>\n",
       "  </thead>\n",
       "  <tbody>\n",
       "    <tr>\n",
       "      <th>0</th>\n",
       "      <td>image_00001</td>\n",
       "      <td>1</td>\n",
       "    </tr>\n",
       "    <tr>\n",
       "      <th>1</th>\n",
       "      <td>image_00002</td>\n",
       "      <td>0</td>\n",
       "    </tr>\n",
       "    <tr>\n",
       "      <th>2</th>\n",
       "      <td>image_00003</td>\n",
       "      <td>1</td>\n",
       "    </tr>\n",
       "    <tr>\n",
       "      <th>3</th>\n",
       "      <td>image_00004</td>\n",
       "      <td>4</td>\n",
       "    </tr>\n",
       "    <tr>\n",
       "      <th>4</th>\n",
       "      <td>image_00005</td>\n",
       "      <td>0</td>\n",
       "    </tr>\n",
       "  </tbody>\n",
       "</table>\n",
       "</div>"
      ],
      "text/plain": [
       "            id  num\n",
       "0  image_00001    1\n",
       "1  image_00002    0\n",
       "2  image_00003    1\n",
       "3  image_00004    4\n",
       "4  image_00005    0"
      ]
     },
     "execution_count": 9,
     "metadata": {},
     "output_type": "execute_result"
    }
   ],
   "source": [
    "# Read the labels file using Pandas\n",
    "label_df = pd.read_csv(label_csv)\n",
    "\n",
    "label_df.head()"
   ]
  },
  {
   "cell_type": "code",
   "execution_count": 10,
   "metadata": {},
   "outputs": [
    {
     "data": {
      "text/html": [
       "<div>\n",
       "<style scoped>\n",
       "    .dataframe tbody tr th:only-of-type {\n",
       "        vertical-align: middle;\n",
       "    }\n",
       "\n",
       "    .dataframe tbody tr th {\n",
       "        vertical-align: top;\n",
       "    }\n",
       "\n",
       "    .dataframe thead th {\n",
       "        text-align: right;\n",
       "    }\n",
       "</style>\n",
       "<table border=\"1\" class=\"dataframe\">\n",
       "  <thead>\n",
       "    <tr style=\"text-align: right;\">\n",
       "      <th></th>\n",
       "      <th>id</th>\n",
       "    </tr>\n",
       "    <tr>\n",
       "      <th>num</th>\n",
       "      <th></th>\n",
       "    </tr>\n",
       "  </thead>\n",
       "  <tbody>\n",
       "    <tr>\n",
       "      <th>1</th>\n",
       "      <td>4684</td>\n",
       "    </tr>\n",
       "    <tr>\n",
       "      <th>7</th>\n",
       "      <td>4401</td>\n",
       "    </tr>\n",
       "    <tr>\n",
       "      <th>3</th>\n",
       "      <td>4351</td>\n",
       "    </tr>\n",
       "    <tr>\n",
       "      <th>9</th>\n",
       "      <td>4188</td>\n",
       "    </tr>\n",
       "    <tr>\n",
       "      <th>2</th>\n",
       "      <td>4177</td>\n",
       "    </tr>\n",
       "    <tr>\n",
       "      <th>6</th>\n",
       "      <td>4137</td>\n",
       "    </tr>\n",
       "    <tr>\n",
       "      <th>0</th>\n",
       "      <td>4132</td>\n",
       "    </tr>\n",
       "    <tr>\n",
       "      <th>4</th>\n",
       "      <td>4072</td>\n",
       "    </tr>\n",
       "    <tr>\n",
       "      <th>8</th>\n",
       "      <td>4063</td>\n",
       "    </tr>\n",
       "    <tr>\n",
       "      <th>5</th>\n",
       "      <td>3795</td>\n",
       "    </tr>\n",
       "  </tbody>\n",
       "</table>\n",
       "</div>"
      ],
      "text/plain": [
       "       id\n",
       "num      \n",
       "1    4684\n",
       "7    4401\n",
       "3    4351\n",
       "9    4188\n",
       "2    4177\n",
       "6    4137\n",
       "0    4132\n",
       "4    4072\n",
       "8    4063\n",
       "5    3795"
      ]
     },
     "execution_count": 10,
     "metadata": {},
     "output_type": "execute_result"
    }
   ],
   "source": [
    "# Organizes the data by classification and lists the sizes in descending order\n",
    "label_df.pivot_table(index='num', aggfunc=len).sort_values('id', ascending=False)"
   ]
  },
  {
   "cell_type": "code",
   "execution_count": 11,
   "metadata": {},
   "outputs": [
    {
     "data": {
      "text/plain": [
       "array([    6,    18,    29, ..., 41980, 41983, 41997])"
      ]
     },
     "execution_count": 11,
     "metadata": {},
     "output_type": "execute_result"
    }
   ],
   "source": [
    "# Let's print out pictures of of the numbers to double check\n",
    "num_ind = np.where(np.array(label_df.num)==7); num_ind[0]"
   ]
  },
  {
   "cell_type": "code",
   "execution_count": 12,
   "metadata": {},
   "outputs": [
    {
     "data": {
      "text/plain": [
       "<matplotlib.image.AxesImage at 0x7f0079b6e588>"
      ]
     },
     "execution_count": 12,
     "metadata": {},
     "output_type": "execute_result"
    },
    {
     "data": {
      "image/png": "[encoded data removed]",
      "text/plain": [
       "<Figure size 432x288 with 1 Axes>"
      ]
     },
     "metadata": {},
     "output_type": "display_data"
    }
   ],
   "source": [
    "img = plt.imread(output_directory+'train_images/'+label_df.id[np.random.choice(num_ind[0])]+'.png')\n",
    "plt.imshow(img)"
   ]
  },
  {
   "cell_type": "code",
   "execution_count": 13,
   "metadata": {},
   "outputs": [],
   "source": [
    "# Describe the augmentation that we want to do\n",
    "tfms = tfms_from_model(arch, sz, aug_tfms=transforms_side_on, max_zoom=1.1)"
   ]
  },
  {
   "cell_type": "code",
   "execution_count": 14,
   "metadata": {},
   "outputs": [],
   "source": [
    "data = ImageClassifierData.from_csv(output_directory, 'train_images', label_csv, test_name='test_images', \n",
    "                                    val_idxs=val_idxs, suffix='.png', tfms=tfms, bs=bs)"
   ]
  },
  {
   "cell_type": "markdown",
   "metadata": {},
   "source": [
    "Trial number 1"
   ]
  },
  {
   "cell_type": "markdown",
   "metadata": {},
   "source": [
    "# Step 1 - Enable data augmentation and set precompute = true\n",
    "This is a pretrained model (described by the variable arch), meaning we are testing a previously developed model that has been used to solve a different problem.\n",
    "The model has several layers, going from basic shapes (lines and curves) to whatever we are inputting in the model to test (in our example it's an image of a cat or a dog). Setting pre-compute = False means that we want to recompute every layer based on our input model data, i.e. it looks at an image of a cat or a dog and then tries to get out lines and curve information from the input data. By setting precompute = True, we say that only the last (most complicated) layer should be edited. The data shouldn't affect the model's conception of basic shapes. \n",
    "Note: When precompute = True, data augmentation will not be possible. However, we will enable data augmentation in Step 4.  \n",
    "Note 2: If we choose to use precompute=False and retrain the basic layers, we will get into serious trouble if we don't have enough data for it to understand the basic shapes.  "
   ]
  },
  {
   "cell_type": "code",
   "execution_count": 15,
   "metadata": {},
   "outputs": [],
   "source": [
    "learn = ConvLearner.pretrained(arch, data, precompute=True, ps=0.5)"
   ]
  },
  {
   "cell_type": "markdown",
   "metadata": {
    "scrolled": false
   },
   "source": [
    "# Step 2 - Use lr_find() \n",
    "This is used to find the highest learning rate where the loss is still clearly improving."
   ]
  },
  {
   "cell_type": "code",
   "execution_count": 11,
   "metadata": {},
   "outputs": [
    {
     "data": {
      "application/vnd.jupyter.widget-view+json": {
       "model_id": "1625cb84dcfc4a2e8241d9c53eaaf996",
       "version_major": 2,
       "version_minor": 0
      },
      "text/plain": [
       "HBox(children=(IntProgress(value=0, description='Epoch', max=1), HTML(value='')))"
      ]
     },
     "metadata": {},
     "output_type": "display_data"
    },
    {
     "name": "stdout",
     "output_type": "stream",
     "text": [
      " 80%|████████  | 465/580 [00:06<00:01, 74.74it/s, loss=2.65] \n",
      "                                                            \r"
     ]
    }
   ],
   "source": [
    "lrf=learn.lr_find()"
   ]
  },
  {
   "cell_type": "code",
   "execution_count": 12,
   "metadata": {},
   "outputs": [
    {
     "data": {
      "image/png": "[encoded data removed]",
      "text/plain": [
       "<Figure size 432x288 with 1 Axes>"
      ]
     },
     "metadata": {},
     "output_type": "display_data"
    }
   ],
   "source": [
    "learn.sched.plot()"
   ]
  },
  {
   "cell_type": "markdown",
   "metadata": {},
   "source": [
    "# Step 3 - Train the last layer from pre-computed activations\n",
    "Takes the Python class of the model created in Step 1 (learn) and fits a specific learning rate (1e-2). In Step 1, we set precompute = True, which means we can only affect the last layer. This is why we only input one learning rate. The second number is the epoch, or the number of times that the last layer should be trained. A third number is sometimes added, and is the cycle length, or how many epochs in a cycle. "
   ]
  },
  {
   "cell_type": "code",
   "execution_count": 16,
   "metadata": {},
   "outputs": [
    {
     "data": {
      "application/vnd.jupyter.widget-view+json": {
       "model_id": "31ae08b609f84ce99fc25b1e12728629",
       "version_major": 2,
       "version_minor": 0
      },
      "text/plain": [
       "HBox(children=(IntProgress(value=0, description='Epoch', max=3), HTML(value='')))"
      ]
     },
     "metadata": {},
     "output_type": "display_data"
    },
    {
     "name": "stdout",
     "output_type": "stream",
     "text": [
      "epoch      trn_loss   val_loss   accuracy                    \n",
      "    0      0.351285   0.186998   0.945119  \n",
      "    1      0.284928   0.163515   0.952619                    \n",
      "    2      0.26355    0.148964   0.956548                    \n",
      "\n"
     ]
    },
    {
     "data": {
      "text/plain": [
       "[array([0.14896]), 0.9565476202255203]"
      ]
     },
     "execution_count": 16,
     "metadata": {},
     "output_type": "execute_result"
    }
   ],
   "source": [
    "learn.fit(1e-2, 3)"
   ]
  },
  {
   "cell_type": "code",
   "execution_count": 15,
   "metadata": {},
   "outputs": [
    {
     "data": {
      "application/vnd.jupyter.widget-view+json": {
       "model_id": "b917bb21bf754b3faeb4065878bd9b2c",
       "version_major": 2,
       "version_minor": 0
      },
      "text/plain": [
       "HBox(children=(IntProgress(value=0, description='Epoch', max=3), HTML(value='')))"
      ]
     },
     "metadata": {},
     "output_type": "display_data"
    },
    {
     "name": "stdout",
     "output_type": "stream",
     "text": [
      "epoch      trn_loss   val_loss   accuracy                    \n",
      "    0      0.316784   0.144671   0.953095  \n",
      "    1      0.234718   0.137058   0.961429                    \n",
      "    2      0.25796    0.13283    0.96381                     \n",
      "\n"
     ]
    },
    {
     "data": {
      "text/plain": [
       "[array([0.13283]), 0.9638095245616777]"
      ]
     },
     "execution_count": 15,
     "metadata": {},
     "output_type": "execute_result"
    }
   ],
   "source": [
    "learn.fit(1e-1, 3)"
   ]
  },
  {
   "cell_type": "markdown",
   "metadata": {},
   "source": [
    "# Step 4 - Train the last layer again but with data augmentation\n",
    "As mentioned before, precompute = True makes the training unable to use data augmentation. Unlike what I used to think, precompute=False isn't enough to train the initial layers on the model. To train the basic layers, we need to set precompute=False AND unfreeze the layers. However, when we just set precompute = False, we can now use data augmentation and rerun the model to see how the last layer reacts to data augmentation. \n",
    "Note: This step is a lot slower than it should be due to using resnet34 architecture instead of resnext50. Unfortunately, resnext50 architecture seems broken in the current fastai environment. "
   ]
  },
  {
   "cell_type": "code",
   "execution_count": 16,
   "metadata": {},
   "outputs": [],
   "source": [
    "learn.precompute=False"
   ]
  },
  {
   "cell_type": "code",
   "execution_count": 17,
   "metadata": {
    "scrolled": true
   },
   "outputs": [
    {
     "data": {
      "application/vnd.jupyter.widget-view+json": {
       "model_id": "",
       "version_major": 2,
       "version_minor": 0
      },
      "text/plain": [
       "HBox(children=(IntProgress(value=0, description='Epoch', max=2), HTML(value='')))"
      ]
     },
     "metadata": {},
     "output_type": "display_data"
    },
    {
     "name": "stdout",
     "output_type": "stream",
     "text": [
      "epoch      trn_loss   val_loss   accuracy                    \n",
      "    0      0.628306   0.176976   0.946548  \n",
      "    1      0.535411   0.189767   0.942738                    \n",
      "\n"
     ]
    },
    {
     "data": {
      "text/plain": [
       "[array([0.18977]), 0.9427380980480284]"
      ]
     },
     "execution_count": 17,
     "metadata": {},
     "output_type": "execute_result"
    }
   ],
   "source": [
    "learn.fit(1e-2, 2, cycle_len=1)"
   ]
  },
  {
   "cell_type": "markdown",
   "metadata": {},
   "source": [
    "It makes sense that the accuracy is worse with data augmentation. Certain numbers will be confused (6 and 9, 1 and 7)"
   ]
  },
  {
   "cell_type": "markdown",
   "metadata": {},
   "source": [
    "# Step 5 - Unfreeze all layers\n",
    "This is the second component to allow the data to train even the most fundamental parts of the model.  "
   ]
  },
  {
   "cell_type": "code",
   "execution_count": 12,
   "metadata": {},
   "outputs": [],
   "source": [
    "learn.unfreeze()"
   ]
  },
  {
   "cell_type": "markdown",
   "metadata": {},
   "source": [
    "# Step 6 - Set earlier layers to 3 to 10 times lower learning rate than the next highest layer.\n",
    "Although it's obvious that the last element in the array is the learning rate for the last layers, the first two numbers confused me. It's NOT the two layers prior to the last layer. Instead, the first number represents the learning rate for a grouping of the most basic layers and the second number is the learning rate for a grouping of the intermediate layers. \n",
    "Note: Just as a reminder, this is just using the numpy library (imported as np) to create an array. The application of this parameter is actually in Step 8. "
   ]
  },
  {
   "cell_type": "code",
   "execution_count": 13,
   "metadata": {},
   "outputs": [],
   "source": [
    "lr=np.array([1e-4,1e-3,1e-2])"
   ]
  },
  {
   "cell_type": "markdown",
   "metadata": {},
   "source": [
    "# Step 7 - Use lr_find() to use the optimal learning rate. \n",
    "This is very strange for me, as we already set the learning rate in Step 6. It's difficult to say because he doesn't use lr_find() in this example. "
   ]
  },
  {
   "cell_type": "markdown",
   "metadata": {},
   "source": [
    "# Step 8 - Rerun the fit after unfreezing all of the layers and setting the learning rates. \n"
   ]
  },
  {
   "cell_type": "code",
   "execution_count": 14,
   "metadata": {},
   "outputs": [
    {
     "data": {
      "application/vnd.jupyter.widget-view+json": {
       "model_id": "8dfed0052921444889e601ab5327ea14",
       "version_major": 2,
       "version_minor": 0
      },
      "text/plain": [
       "HBox(children=(IntProgress(value=0, description='Epoch', max=3), HTML(value='')))"
      ]
     },
     "metadata": {},
     "output_type": "display_data"
    },
    {
     "name": "stdout",
     "output_type": "stream",
     "text": [
      "epoch      trn_loss   val_loss   accuracy                    \n",
      "    0      0.605031   0.403188   0.877857  \n",
      "    1      0.54549    0.337103   0.898333                    \n",
      "    2      0.503141   0.324424   0.898214                    \n",
      "\n"
     ]
    },
    {
     "data": {
      "text/plain": [
       "[array([0.32442]), 0.8982142909793627]"
      ]
     },
     "execution_count": 14,
     "metadata": {},
     "output_type": "execute_result"
    }
   ],
   "source": [
    "learn.fit(lr, 3, cycle_len=1)"
   ]
  },
  {
   "cell_type": "code",
   "execution_count": 15,
   "metadata": {},
   "outputs": [],
   "source": [
    "learn.save('224_test')"
   ]
  },
  {
   "cell_type": "code",
   "execution_count": 16,
   "metadata": {},
   "outputs": [],
   "source": [
    "learn.load('224_test')\n",
    "# learn.load('/home/paperspace/kaggle_projects/digit_recognizer/output/models/224_test')"
   ]
  },
  {
   "cell_type": "code",
   "execution_count": 31,
   "metadata": {},
   "outputs": [
    {
     "name": "stdout",
     "output_type": "stream",
     "text": [
      "                                             \r"
     ]
    }
   ],
   "source": [
    "log_preds, y = learn.TTA(is_test=True) # use test dataset rather than validation dataset\n",
    "probs = np.mean(np.exp(log_preds),0)"
   ]
  },
  {
   "cell_type": "code",
   "execution_count": 32,
   "metadata": {},
   "outputs": [
    {
     "data": {
      "text/plain": [
       "array([[0.00012, 0.00012, 0.00001, ..., 0.97652, 0.00002, 0.02163],\n",
       "       [0.00022, 0.00001, 0.01279, ..., 0.00015, 0.66487, 0.01118],\n",
       "       [0.     , 0.00021, 0.00001, ..., 0.00185, 0.00003, 0.00007],\n",
       "       ...,\n",
       "       [0.00002, 0.00027, 0.00001, ..., 0.98012, 0.00001, 0.00945],\n",
       "       [0.00001, 0.99965, 0.     , ..., 0.00002, 0.     , 0.     ],\n",
       "       [0.00312, 0.00008, 0.06067, ..., 0.00018, 0.90856, 0.0157 ]], dtype=float32)"
      ]
     },
     "execution_count": 32,
     "metadata": {},
     "output_type": "execute_result"
    }
   ],
   "source": [
    "probs"
   ]
  },
  {
   "cell_type": "code",
   "execution_count": 42,
   "metadata": {},
   "outputs": [],
   "source": [
    "df = pd.DataFrame(probs)\n",
    "df.columns = data.classes"
   ]
  },
  {
   "cell_type": "code",
   "execution_count": 43,
   "metadata": {},
   "outputs": [
    {
     "data": {
      "text/plain": [
       "['0', '1', '2', '3', '4', '5', '6', '7', '8', '9']"
      ]
     },
     "execution_count": 43,
     "metadata": {},
     "output_type": "execute_result"
    }
   ],
   "source": [
    "data.classes"
   ]
  },
  {
   "cell_type": "code",
   "execution_count": 44,
   "metadata": {},
   "outputs": [],
   "source": [
    "df.insert(0, 'id', [o[5:-4] for o in data.test_ds.fnames])"
   ]
  },
  {
   "cell_type": "code",
   "execution_count": 50,
   "metadata": {},
   "outputs": [
    {
     "data": {
      "text/html": [
       "<div>\n",
       "<style scoped>\n",
       "    .dataframe tbody tr th:only-of-type {\n",
       "        vertical-align: middle;\n",
       "    }\n",
       "\n",
       "    .dataframe tbody tr th {\n",
       "        vertical-align: top;\n",
       "    }\n",
       "\n",
       "    .dataframe thead th {\n",
       "        text-align: right;\n",
       "    }\n",
       "</style>\n",
       "<table border=\"1\" class=\"dataframe\">\n",
       "  <thead>\n",
       "    <tr style=\"text-align: right;\">\n",
       "      <th></th>\n",
       "      <th>id</th>\n",
       "      <th>0</th>\n",
       "      <th>1</th>\n",
       "      <th>2</th>\n",
       "      <th>3</th>\n",
       "      <th>4</th>\n",
       "      <th>5</th>\n",
       "      <th>6</th>\n",
       "      <th>7</th>\n",
       "      <th>8</th>\n",
       "      <th>9</th>\n",
       "    </tr>\n",
       "  </thead>\n",
       "  <tbody>\n",
       "    <tr>\n",
       "      <th>25899</th>\n",
       "      <td>images/image_00001</td>\n",
       "      <td>2.691638e-05</td>\n",
       "      <td>9.692266e-07</td>\n",
       "      <td>9.993126e-01</td>\n",
       "      <td>3.060399e-04</td>\n",
       "      <td>1.277185e-05</td>\n",
       "      <td>1.077775e-04</td>\n",
       "      <td>1.881185e-05</td>\n",
       "      <td>8.126686e-05</td>\n",
       "      <td>1.242199e-04</td>\n",
       "      <td>8.420839e-06</td>\n",
       "    </tr>\n",
       "    <tr>\n",
       "      <th>24075</th>\n",
       "      <td>images/image_00002</td>\n",
       "      <td>9.935389e-01</td>\n",
       "      <td>3.356904e-06</td>\n",
       "      <td>1.556437e-03</td>\n",
       "      <td>1.221404e-03</td>\n",
       "      <td>1.338354e-05</td>\n",
       "      <td>1.653342e-03</td>\n",
       "      <td>5.518065e-04</td>\n",
       "      <td>1.964072e-04</td>\n",
       "      <td>4.059412e-04</td>\n",
       "      <td>8.592283e-04</td>\n",
       "    </tr>\n",
       "    <tr>\n",
       "      <th>27041</th>\n",
       "      <td>images/image_00003</td>\n",
       "      <td>1.166208e-04</td>\n",
       "      <td>2.418933e-04</td>\n",
       "      <td>2.656803e-02</td>\n",
       "      <td>9.555443e-04</td>\n",
       "      <td>1.733194e-03</td>\n",
       "      <td>7.310199e-05</td>\n",
       "      <td>1.077047e-04</td>\n",
       "      <td>4.176316e-03</td>\n",
       "      <td>2.642923e-03</td>\n",
       "      <td>9.633847e-01</td>\n",
       "    </tr>\n",
       "    <tr>\n",
       "      <th>14035</th>\n",
       "      <td>images/image_00004</td>\n",
       "      <td>1.694572e-01</td>\n",
       "      <td>6.037720e-04</td>\n",
       "      <td>9.850350e-02</td>\n",
       "      <td>6.406011e-02</td>\n",
       "      <td>1.285445e-02</td>\n",
       "      <td>3.484404e-02</td>\n",
       "      <td>5.497239e-02</td>\n",
       "      <td>1.290488e-01</td>\n",
       "      <td>2.022146e-02</td>\n",
       "      <td>4.154344e-01</td>\n",
       "    </tr>\n",
       "    <tr>\n",
       "      <th>4611</th>\n",
       "      <td>images/image_00005</td>\n",
       "      <td>1.442330e-05</td>\n",
       "      <td>5.753614e-06</td>\n",
       "      <td>1.625855e-01</td>\n",
       "      <td>8.125688e-01</td>\n",
       "      <td>2.674334e-06</td>\n",
       "      <td>4.290963e-04</td>\n",
       "      <td>1.641985e-04</td>\n",
       "      <td>1.415647e-05</td>\n",
       "      <td>2.411388e-02</td>\n",
       "      <td>1.016037e-04</td>\n",
       "    </tr>\n",
       "    <tr>\n",
       "      <th>521</th>\n",
       "      <td>images/image_00006</td>\n",
       "      <td>1.155822e-05</td>\n",
       "      <td>3.928296e-06</td>\n",
       "      <td>5.397513e-04</td>\n",
       "      <td>4.625386e-04</td>\n",
       "      <td>4.450369e-05</td>\n",
       "      <td>1.786039e-03</td>\n",
       "      <td>2.366603e-06</td>\n",
       "      <td>9.948862e-01</td>\n",
       "      <td>6.598781e-05</td>\n",
       "      <td>2.197054e-03</td>\n",
       "    </tr>\n",
       "    <tr>\n",
       "      <th>18897</th>\n",
       "      <td>images/image_00007</td>\n",
       "      <td>9.987077e-01</td>\n",
       "      <td>6.984700e-07</td>\n",
       "      <td>3.262000e-04</td>\n",
       "      <td>1.289613e-04</td>\n",
       "      <td>8.057981e-06</td>\n",
       "      <td>4.880899e-05</td>\n",
       "      <td>1.244171e-04</td>\n",
       "      <td>8.627056e-06</td>\n",
       "      <td>5.481416e-04</td>\n",
       "      <td>9.826887e-05</td>\n",
       "    </tr>\n",
       "    <tr>\n",
       "      <th>16044</th>\n",
       "      <td>images/image_00008</td>\n",
       "      <td>2.407836e-05</td>\n",
       "      <td>5.075082e-06</td>\n",
       "      <td>1.924582e-02</td>\n",
       "      <td>9.784648e-01</td>\n",
       "      <td>1.208425e-05</td>\n",
       "      <td>1.995992e-03</td>\n",
       "      <td>2.306931e-06</td>\n",
       "      <td>1.458786e-04</td>\n",
       "      <td>3.962557e-05</td>\n",
       "      <td>6.410377e-05</td>\n",
       "    </tr>\n",
       "    <tr>\n",
       "      <th>12</th>\n",
       "      <td>images/image_00009</td>\n",
       "      <td>9.999590e-01</td>\n",
       "      <td>9.276563e-08</td>\n",
       "      <td>6.466858e-06</td>\n",
       "      <td>1.598961e-06</td>\n",
       "      <td>5.103801e-08</td>\n",
       "      <td>8.402802e-07</td>\n",
       "      <td>2.368463e-05</td>\n",
       "      <td>8.774686e-08</td>\n",
       "      <td>3.318368e-06</td>\n",
       "      <td>4.792978e-06</td>\n",
       "    </tr>\n",
       "    <tr>\n",
       "      <th>11293</th>\n",
       "      <td>images/image_00010</td>\n",
       "      <td>6.509584e-08</td>\n",
       "      <td>1.514222e-06</td>\n",
       "      <td>1.003798e-03</td>\n",
       "      <td>9.951102e-01</td>\n",
       "      <td>2.245174e-07</td>\n",
       "      <td>3.862418e-03</td>\n",
       "      <td>3.780420e-07</td>\n",
       "      <td>1.857035e-06</td>\n",
       "      <td>1.552560e-05</td>\n",
       "      <td>4.286043e-06</td>\n",
       "    </tr>\n",
       "    <tr>\n",
       "      <th>27459</th>\n",
       "      <td>images/image_00011</td>\n",
       "      <td>4.364000e-05</td>\n",
       "      <td>3.508131e-07</td>\n",
       "      <td>1.399356e-04</td>\n",
       "      <td>6.208632e-03</td>\n",
       "      <td>1.052273e-05</td>\n",
       "      <td>9.934431e-01</td>\n",
       "      <td>6.851165e-05</td>\n",
       "      <td>3.338090e-05</td>\n",
       "      <td>3.101110e-05</td>\n",
       "      <td>2.068284e-05</td>\n",
       "    </tr>\n",
       "    <tr>\n",
       "      <th>16823</th>\n",
       "      <td>images/image_00012</td>\n",
       "      <td>2.972118e-05</td>\n",
       "      <td>3.342316e-04</td>\n",
       "      <td>3.588979e-04</td>\n",
       "      <td>3.072456e-04</td>\n",
       "      <td>2.289679e-05</td>\n",
       "      <td>9.215106e-06</td>\n",
       "      <td>1.048486e-06</td>\n",
       "      <td>9.975986e-01</td>\n",
       "      <td>1.945202e-06</td>\n",
       "      <td>1.336484e-03</td>\n",
       "    </tr>\n",
       "    <tr>\n",
       "      <th>22535</th>\n",
       "      <td>images/image_00013</td>\n",
       "      <td>7.945213e-06</td>\n",
       "      <td>3.926909e-05</td>\n",
       "      <td>4.564765e-04</td>\n",
       "      <td>3.601633e-03</td>\n",
       "      <td>9.845011e-01</td>\n",
       "      <td>1.047438e-03</td>\n",
       "      <td>8.376438e-05</td>\n",
       "      <td>7.045063e-03</td>\n",
       "      <td>2.233895e-05</td>\n",
       "      <td>3.194983e-03</td>\n",
       "    </tr>\n",
       "    <tr>\n",
       "      <th>17204</th>\n",
       "      <td>images/image_00014</td>\n",
       "      <td>9.998789e-01</td>\n",
       "      <td>5.157312e-07</td>\n",
       "      <td>5.805025e-06</td>\n",
       "      <td>3.998040e-07</td>\n",
       "      <td>1.100480e-06</td>\n",
       "      <td>2.745642e-07</td>\n",
       "      <td>9.549048e-05</td>\n",
       "      <td>5.882711e-07</td>\n",
       "      <td>5.283797e-06</td>\n",
       "      <td>1.152667e-05</td>\n",
       "    </tr>\n",
       "    <tr>\n",
       "      <th>3422</th>\n",
       "      <td>images/image_00015</td>\n",
       "      <td>1.381648e-05</td>\n",
       "      <td>7.491046e-05</td>\n",
       "      <td>1.706050e-04</td>\n",
       "      <td>6.146478e-05</td>\n",
       "      <td>9.921797e-01</td>\n",
       "      <td>8.107789e-05</td>\n",
       "      <td>1.253077e-04</td>\n",
       "      <td>3.647378e-03</td>\n",
       "      <td>2.320526e-04</td>\n",
       "      <td>3.414104e-03</td>\n",
       "    </tr>\n",
       "    <tr>\n",
       "      <th>2547</th>\n",
       "      <td>images/image_00016</td>\n",
       "      <td>1.807367e-04</td>\n",
       "      <td>6.826245e-07</td>\n",
       "      <td>6.469737e-04</td>\n",
       "      <td>5.199091e-01</td>\n",
       "      <td>1.295445e-07</td>\n",
       "      <td>4.790230e-01</td>\n",
       "      <td>2.374918e-05</td>\n",
       "      <td>8.388505e-06</td>\n",
       "      <td>1.966809e-04</td>\n",
       "      <td>1.095151e-05</td>\n",
       "    </tr>\n",
       "    <tr>\n",
       "      <th>19667</th>\n",
       "      <td>images/image_00017</td>\n",
       "      <td>5.464779e-04</td>\n",
       "      <td>5.911038e-05</td>\n",
       "      <td>3.053701e-03</td>\n",
       "      <td>9.864414e-01</td>\n",
       "      <td>1.953937e-04</td>\n",
       "      <td>7.628922e-03</td>\n",
       "      <td>3.503875e-04</td>\n",
       "      <td>4.201956e-05</td>\n",
       "      <td>1.043189e-03</td>\n",
       "      <td>6.393447e-04</td>\n",
       "    </tr>\n",
       "    <tr>\n",
       "      <th>4051</th>\n",
       "      <td>images/image_00018</td>\n",
       "      <td>1.981022e-04</td>\n",
       "      <td>9.981963e-01</td>\n",
       "      <td>5.008002e-06</td>\n",
       "      <td>1.714441e-06</td>\n",
       "      <td>6.524028e-04</td>\n",
       "      <td>9.156573e-07</td>\n",
       "      <td>5.614243e-05</td>\n",
       "      <td>7.471971e-04</td>\n",
       "      <td>1.700569e-06</td>\n",
       "      <td>1.405718e-04</td>\n",
       "    </tr>\n",
       "    <tr>\n",
       "      <th>2497</th>\n",
       "      <td>images/image_00019</td>\n",
       "      <td>2.246938e-06</td>\n",
       "      <td>1.033220e-06</td>\n",
       "      <td>1.852946e-05</td>\n",
       "      <td>2.271831e-06</td>\n",
       "      <td>6.795173e-05</td>\n",
       "      <td>1.085065e-06</td>\n",
       "      <td>2.227836e-06</td>\n",
       "      <td>6.005200e-05</td>\n",
       "      <td>1.235982e-03</td>\n",
       "      <td>9.986086e-01</td>\n",
       "    </tr>\n",
       "    <tr>\n",
       "      <th>27112</th>\n",
       "      <td>images/image_00020</td>\n",
       "      <td>9.999037e-01</td>\n",
       "      <td>2.263993e-06</td>\n",
       "      <td>5.205621e-06</td>\n",
       "      <td>4.787961e-06</td>\n",
       "      <td>2.426169e-06</td>\n",
       "      <td>1.481973e-06</td>\n",
       "      <td>1.197180e-05</td>\n",
       "      <td>1.346353e-06</td>\n",
       "      <td>5.755167e-06</td>\n",
       "      <td>6.129853e-05</td>\n",
       "    </tr>\n",
       "    <tr>\n",
       "      <th>10198</th>\n",
       "      <td>images/image_00021</td>\n",
       "      <td>3.074641e-07</td>\n",
       "      <td>2.171874e-07</td>\n",
       "      <td>6.073244e-06</td>\n",
       "      <td>8.064708e-08</td>\n",
       "      <td>7.673951e-05</td>\n",
       "      <td>2.046723e-07</td>\n",
       "      <td>1.736748e-07</td>\n",
       "      <td>4.962473e-05</td>\n",
       "      <td>1.894567e-04</td>\n",
       "      <td>9.996768e-01</td>\n",
       "    </tr>\n",
       "    <tr>\n",
       "      <th>19027</th>\n",
       "      <td>images/image_00022</td>\n",
       "      <td>3.391220e-07</td>\n",
       "      <td>9.999943e-01</td>\n",
       "      <td>2.863053e-09</td>\n",
       "      <td>3.646532e-09</td>\n",
       "      <td>4.159456e-06</td>\n",
       "      <td>1.923466e-08</td>\n",
       "      <td>1.088185e-06</td>\n",
       "      <td>3.984627e-07</td>\n",
       "      <td>8.796683e-09</td>\n",
       "      <td>9.604824e-09</td>\n",
       "    </tr>\n",
       "    <tr>\n",
       "      <th>10783</th>\n",
       "      <td>images/image_00023</td>\n",
       "      <td>1.198064e-06</td>\n",
       "      <td>9.991344e-01</td>\n",
       "      <td>1.262784e-07</td>\n",
       "      <td>2.319458e-07</td>\n",
       "      <td>3.323312e-04</td>\n",
       "      <td>6.244130e-08</td>\n",
       "      <td>5.085334e-06</td>\n",
       "      <td>5.257725e-04</td>\n",
       "      <td>3.607409e-07</td>\n",
       "      <td>1.365007e-07</td>\n",
       "    </tr>\n",
       "    <tr>\n",
       "      <th>21203</th>\n",
       "      <td>images/image_00024</td>\n",
       "      <td>6.374382e-06</td>\n",
       "      <td>1.204190e-05</td>\n",
       "      <td>5.370948e-04</td>\n",
       "      <td>2.534961e-03</td>\n",
       "      <td>5.343415e-06</td>\n",
       "      <td>9.955496e-01</td>\n",
       "      <td>1.026051e-06</td>\n",
       "      <td>9.732104e-04</td>\n",
       "      <td>3.570072e-04</td>\n",
       "      <td>2.318454e-05</td>\n",
       "    </tr>\n",
       "    <tr>\n",
       "      <th>73</th>\n",
       "      <td>images/image_00025</td>\n",
       "      <td>1.996910e-05</td>\n",
       "      <td>4.999039e-04</td>\n",
       "      <td>8.077397e-04</td>\n",
       "      <td>3.546494e-04</td>\n",
       "      <td>1.151375e-03</td>\n",
       "      <td>5.605815e-04</td>\n",
       "      <td>2.247031e-05</td>\n",
       "      <td>9.937671e-01</td>\n",
       "      <td>1.626498e-04</td>\n",
       "      <td>2.653428e-03</td>\n",
       "    </tr>\n",
       "    <tr>\n",
       "      <th>3565</th>\n",
       "      <td>images/image_00026</td>\n",
       "      <td>1.051774e-06</td>\n",
       "      <td>2.516416e-05</td>\n",
       "      <td>2.832649e-05</td>\n",
       "      <td>1.732748e-05</td>\n",
       "      <td>9.974550e-01</td>\n",
       "      <td>1.475081e-04</td>\n",
       "      <td>1.015468e-05</td>\n",
       "      <td>7.792903e-04</td>\n",
       "      <td>5.533284e-05</td>\n",
       "      <td>1.481106e-03</td>\n",
       "    </tr>\n",
       "    <tr>\n",
       "      <th>24284</th>\n",
       "      <td>images/image_00027</td>\n",
       "      <td>1.221722e-06</td>\n",
       "      <td>5.356087e-08</td>\n",
       "      <td>9.990344e-01</td>\n",
       "      <td>2.471540e-04</td>\n",
       "      <td>8.524836e-07</td>\n",
       "      <td>2.007937e-06</td>\n",
       "      <td>8.246971e-06</td>\n",
       "      <td>2.997304e-08</td>\n",
       "      <td>7.056774e-04</td>\n",
       "      <td>2.774713e-07</td>\n",
       "    </tr>\n",
       "    <tr>\n",
       "      <th>12175</th>\n",
       "      <td>images/image_00028</td>\n",
       "      <td>7.380530e-04</td>\n",
       "      <td>2.603630e-05</td>\n",
       "      <td>9.530125e-04</td>\n",
       "      <td>1.399105e-04</td>\n",
       "      <td>2.721211e-05</td>\n",
       "      <td>1.793030e-03</td>\n",
       "      <td>3.856488e-06</td>\n",
       "      <td>8.574938e-01</td>\n",
       "      <td>4.176493e-04</td>\n",
       "      <td>1.384076e-01</td>\n",
       "    </tr>\n",
       "    <tr>\n",
       "      <th>11318</th>\n",
       "      <td>images/image_00029</td>\n",
       "      <td>2.593028e-06</td>\n",
       "      <td>1.174407e-03</td>\n",
       "      <td>2.243594e-05</td>\n",
       "      <td>6.087303e-05</td>\n",
       "      <td>9.222462e-01</td>\n",
       "      <td>3.768775e-05</td>\n",
       "      <td>2.872011e-06</td>\n",
       "      <td>7.407704e-02</td>\n",
       "      <td>1.001661e-04</td>\n",
       "      <td>2.275685e-03</td>\n",
       "    </tr>\n",
       "    <tr>\n",
       "      <th>6250</th>\n",
       "      <td>images/image_00030</td>\n",
       "      <td>4.411403e-06</td>\n",
       "      <td>1.046311e-04</td>\n",
       "      <td>3.542973e-05</td>\n",
       "      <td>3.333295e-06</td>\n",
       "      <td>1.131802e-04</td>\n",
       "      <td>6.753029e-06</td>\n",
       "      <td>7.549439e-07</td>\n",
       "      <td>9.996568e-01</td>\n",
       "      <td>3.868790e-07</td>\n",
       "      <td>7.450748e-05</td>\n",
       "    </tr>\n",
       "    <tr>\n",
       "      <th>...</th>\n",
       "      <td>...</td>\n",
       "      <td>...</td>\n",
       "      <td>...</td>\n",
       "      <td>...</td>\n",
       "      <td>...</td>\n",
       "      <td>...</td>\n",
       "      <td>...</td>\n",
       "      <td>...</td>\n",
       "      <td>...</td>\n",
       "      <td>...</td>\n",
       "      <td>...</td>\n",
       "    </tr>\n",
       "    <tr>\n",
       "      <th>2691</th>\n",
       "      <td>images/image_27971</td>\n",
       "      <td>4.769982e-06</td>\n",
       "      <td>6.758979e-07</td>\n",
       "      <td>1.298198e-05</td>\n",
       "      <td>4.424449e-04</td>\n",
       "      <td>1.463031e-06</td>\n",
       "      <td>9.993593e-01</td>\n",
       "      <td>1.868190e-05</td>\n",
       "      <td>5.075992e-06</td>\n",
       "      <td>7.527849e-05</td>\n",
       "      <td>7.945884e-05</td>\n",
       "    </tr>\n",
       "    <tr>\n",
       "      <th>21785</th>\n",
       "      <td>images/image_27972</td>\n",
       "      <td>8.388026e-01</td>\n",
       "      <td>1.463872e-04</td>\n",
       "      <td>1.099758e-03</td>\n",
       "      <td>2.638823e-04</td>\n",
       "      <td>6.966267e-05</td>\n",
       "      <td>1.070926e-02</td>\n",
       "      <td>1.846236e-02</td>\n",
       "      <td>1.098096e-03</td>\n",
       "      <td>9.671949e-04</td>\n",
       "      <td>1.283807e-01</td>\n",
       "    </tr>\n",
       "    <tr>\n",
       "      <th>275</th>\n",
       "      <td>images/image_27973</td>\n",
       "      <td>1.797820e-07</td>\n",
       "      <td>5.421323e-06</td>\n",
       "      <td>1.480164e-05</td>\n",
       "      <td>7.326104e-07</td>\n",
       "      <td>9.998922e-01</td>\n",
       "      <td>2.332852e-06</td>\n",
       "      <td>3.240483e-05</td>\n",
       "      <td>1.612310e-05</td>\n",
       "      <td>1.894985e-05</td>\n",
       "      <td>1.682363e-05</td>\n",
       "    </tr>\n",
       "    <tr>\n",
       "      <th>3163</th>\n",
       "      <td>images/image_27974</td>\n",
       "      <td>2.928934e-05</td>\n",
       "      <td>2.099646e-06</td>\n",
       "      <td>4.815600e-04</td>\n",
       "      <td>5.392481e-04</td>\n",
       "      <td>2.296163e-06</td>\n",
       "      <td>5.179653e-06</td>\n",
       "      <td>3.699125e-05</td>\n",
       "      <td>2.336947e-06</td>\n",
       "      <td>9.984001e-01</td>\n",
       "      <td>5.004226e-04</td>\n",
       "    </tr>\n",
       "    <tr>\n",
       "      <th>15442</th>\n",
       "      <td>images/image_27975</td>\n",
       "      <td>9.978290e-01</td>\n",
       "      <td>5.765286e-06</td>\n",
       "      <td>2.706974e-04</td>\n",
       "      <td>1.453737e-04</td>\n",
       "      <td>2.240713e-06</td>\n",
       "      <td>6.106951e-05</td>\n",
       "      <td>9.172853e-04</td>\n",
       "      <td>4.100617e-06</td>\n",
       "      <td>2.594643e-04</td>\n",
       "      <td>5.048008e-04</td>\n",
       "    </tr>\n",
       "    <tr>\n",
       "      <th>13812</th>\n",
       "      <td>images/image_27976</td>\n",
       "      <td>7.827274e-03</td>\n",
       "      <td>7.071571e-05</td>\n",
       "      <td>9.187247e-01</td>\n",
       "      <td>3.125735e-02</td>\n",
       "      <td>1.112537e-03</td>\n",
       "      <td>7.168274e-03</td>\n",
       "      <td>6.781606e-03</td>\n",
       "      <td>7.806859e-03</td>\n",
       "      <td>8.865112e-03</td>\n",
       "      <td>1.038558e-02</td>\n",
       "    </tr>\n",
       "    <tr>\n",
       "      <th>18275</th>\n",
       "      <td>images/image_27977</td>\n",
       "      <td>1.258814e-04</td>\n",
       "      <td>4.870546e-06</td>\n",
       "      <td>5.506211e-05</td>\n",
       "      <td>4.506901e-05</td>\n",
       "      <td>6.091074e-06</td>\n",
       "      <td>7.540035e-05</td>\n",
       "      <td>9.996072e-01</td>\n",
       "      <td>5.964922e-08</td>\n",
       "      <td>7.910054e-05</td>\n",
       "      <td>1.086926e-06</td>\n",
       "    </tr>\n",
       "    <tr>\n",
       "      <th>5923</th>\n",
       "      <td>images/image_27978</td>\n",
       "      <td>7.860251e-01</td>\n",
       "      <td>2.093568e-05</td>\n",
       "      <td>9.694662e-02</td>\n",
       "      <td>5.121160e-02</td>\n",
       "      <td>5.964880e-05</td>\n",
       "      <td>6.558125e-03</td>\n",
       "      <td>5.300462e-02</td>\n",
       "      <td>1.541568e-04</td>\n",
       "      <td>5.593081e-03</td>\n",
       "      <td>4.258585e-04</td>\n",
       "    </tr>\n",
       "    <tr>\n",
       "      <th>2073</th>\n",
       "      <td>images/image_27979</td>\n",
       "      <td>8.582774e-06</td>\n",
       "      <td>9.998751e-01</td>\n",
       "      <td>2.620644e-07</td>\n",
       "      <td>1.878433e-07</td>\n",
       "      <td>8.445502e-05</td>\n",
       "      <td>3.457852e-07</td>\n",
       "      <td>2.572580e-05</td>\n",
       "      <td>3.562644e-06</td>\n",
       "      <td>1.029917e-06</td>\n",
       "      <td>1.032011e-06</td>\n",
       "    </tr>\n",
       "    <tr>\n",
       "      <th>11808</th>\n",
       "      <td>images/image_27980</td>\n",
       "      <td>7.653184e-04</td>\n",
       "      <td>4.768783e-04</td>\n",
       "      <td>3.962586e-04</td>\n",
       "      <td>1.222445e-02</td>\n",
       "      <td>1.103327e-03</td>\n",
       "      <td>6.531953e-04</td>\n",
       "      <td>2.846497e-04</td>\n",
       "      <td>1.499867e-03</td>\n",
       "      <td>1.724651e-02</td>\n",
       "      <td>9.653496e-01</td>\n",
       "    </tr>\n",
       "    <tr>\n",
       "      <th>21228</th>\n",
       "      <td>images/image_27981</td>\n",
       "      <td>4.186696e-04</td>\n",
       "      <td>1.809161e-05</td>\n",
       "      <td>1.065770e-02</td>\n",
       "      <td>8.702742e-01</td>\n",
       "      <td>3.272991e-04</td>\n",
       "      <td>1.168294e-01</td>\n",
       "      <td>5.664658e-05</td>\n",
       "      <td>9.193140e-05</td>\n",
       "      <td>1.438080e-04</td>\n",
       "      <td>1.182246e-03</td>\n",
       "    </tr>\n",
       "    <tr>\n",
       "      <th>23170</th>\n",
       "      <td>images/image_27982</td>\n",
       "      <td>4.341459e-07</td>\n",
       "      <td>9.999800e-01</td>\n",
       "      <td>1.424011e-08</td>\n",
       "      <td>6.107692e-08</td>\n",
       "      <td>8.491483e-06</td>\n",
       "      <td>4.011494e-08</td>\n",
       "      <td>1.628304e-06</td>\n",
       "      <td>8.694511e-06</td>\n",
       "      <td>1.724282e-07</td>\n",
       "      <td>1.048563e-07</td>\n",
       "    </tr>\n",
       "    <tr>\n",
       "      <th>2753</th>\n",
       "      <td>images/image_27983</td>\n",
       "      <td>2.941284e-03</td>\n",
       "      <td>9.287564e-01</td>\n",
       "      <td>8.779286e-05</td>\n",
       "      <td>1.298070e-05</td>\n",
       "      <td>6.304122e-02</td>\n",
       "      <td>3.273020e-05</td>\n",
       "      <td>3.467624e-03</td>\n",
       "      <td>1.096908e-03</td>\n",
       "      <td>4.539896e-04</td>\n",
       "      <td>1.090726e-04</td>\n",
       "    </tr>\n",
       "    <tr>\n",
       "      <th>23452</th>\n",
       "      <td>images/image_27984</td>\n",
       "      <td>9.734671e-01</td>\n",
       "      <td>8.678957e-05</td>\n",
       "      <td>3.862142e-03</td>\n",
       "      <td>1.625343e-03</td>\n",
       "      <td>8.279979e-04</td>\n",
       "      <td>2.297417e-03</td>\n",
       "      <td>1.337956e-02</td>\n",
       "      <td>2.290097e-04</td>\n",
       "      <td>1.316823e-03</td>\n",
       "      <td>2.908002e-03</td>\n",
       "    </tr>\n",
       "    <tr>\n",
       "      <th>19790</th>\n",
       "      <td>images/image_27985</td>\n",
       "      <td>2.191380e-06</td>\n",
       "      <td>3.249614e-04</td>\n",
       "      <td>2.883028e-05</td>\n",
       "      <td>4.886012e-07</td>\n",
       "      <td>9.859697e-01</td>\n",
       "      <td>4.515908e-06</td>\n",
       "      <td>1.555618e-05</td>\n",
       "      <td>1.359361e-02</td>\n",
       "      <td>1.335402e-05</td>\n",
       "      <td>4.672035e-05</td>\n",
       "    </tr>\n",
       "    <tr>\n",
       "      <th>6806</th>\n",
       "      <td>images/image_27986</td>\n",
       "      <td>2.832478e-04</td>\n",
       "      <td>2.392491e-06</td>\n",
       "      <td>7.356560e-03</td>\n",
       "      <td>9.261383e-01</td>\n",
       "      <td>2.495642e-06</td>\n",
       "      <td>6.560925e-02</td>\n",
       "      <td>1.201938e-05</td>\n",
       "      <td>1.369809e-04</td>\n",
       "      <td>2.738212e-04</td>\n",
       "      <td>1.847232e-04</td>\n",
       "    </tr>\n",
       "    <tr>\n",
       "      <th>27472</th>\n",
       "      <td>images/image_27987</td>\n",
       "      <td>7.821506e-04</td>\n",
       "      <td>2.871056e-04</td>\n",
       "      <td>9.447408e-01</td>\n",
       "      <td>9.346063e-03</td>\n",
       "      <td>1.077934e-02</td>\n",
       "      <td>1.129871e-02</td>\n",
       "      <td>1.858358e-02</td>\n",
       "      <td>3.148841e-04</td>\n",
       "      <td>3.502569e-03</td>\n",
       "      <td>3.650240e-04</td>\n",
       "    </tr>\n",
       "    <tr>\n",
       "      <th>13647</th>\n",
       "      <td>images/image_27988</td>\n",
       "      <td>1.914330e-03</td>\n",
       "      <td>1.927892e-04</td>\n",
       "      <td>9.747282e-01</td>\n",
       "      <td>1.563297e-02</td>\n",
       "      <td>8.750794e-04</td>\n",
       "      <td>1.644925e-04</td>\n",
       "      <td>5.349327e-03</td>\n",
       "      <td>4.698348e-05</td>\n",
       "      <td>6.309856e-04</td>\n",
       "      <td>4.647022e-04</td>\n",
       "    </tr>\n",
       "    <tr>\n",
       "      <th>9908</th>\n",
       "      <td>images/image_27989</td>\n",
       "      <td>7.808317e-03</td>\n",
       "      <td>4.163197e-03</td>\n",
       "      <td>1.553730e-04</td>\n",
       "      <td>1.621531e-03</td>\n",
       "      <td>4.862837e-03</td>\n",
       "      <td>8.899868e-05</td>\n",
       "      <td>4.645474e-04</td>\n",
       "      <td>7.466378e-02</td>\n",
       "      <td>4.503760e-03</td>\n",
       "      <td>9.016675e-01</td>\n",
       "    </tr>\n",
       "    <tr>\n",
       "      <th>26933</th>\n",
       "      <td>images/image_27990</td>\n",
       "      <td>3.024954e-03</td>\n",
       "      <td>2.462861e-03</td>\n",
       "      <td>1.605954e-02</td>\n",
       "      <td>5.341645e-03</td>\n",
       "      <td>2.445293e-02</td>\n",
       "      <td>2.035673e-01</td>\n",
       "      <td>7.429180e-01</td>\n",
       "      <td>3.621853e-04</td>\n",
       "      <td>7.409258e-04</td>\n",
       "      <td>1.069587e-03</td>\n",
       "    </tr>\n",
       "    <tr>\n",
       "      <th>120</th>\n",
       "      <td>images/image_27991</td>\n",
       "      <td>9.693112e-08</td>\n",
       "      <td>6.901848e-06</td>\n",
       "      <td>1.298611e-04</td>\n",
       "      <td>3.080487e-06</td>\n",
       "      <td>5.823562e-06</td>\n",
       "      <td>1.145663e-05</td>\n",
       "      <td>6.384152e-08</td>\n",
       "      <td>9.998398e-01</td>\n",
       "      <td>4.781470e-07</td>\n",
       "      <td>2.546408e-06</td>\n",
       "    </tr>\n",
       "    <tr>\n",
       "      <th>5318</th>\n",
       "      <td>images/image_27992</td>\n",
       "      <td>5.836228e-04</td>\n",
       "      <td>2.390901e-06</td>\n",
       "      <td>6.195450e-06</td>\n",
       "      <td>2.152695e-06</td>\n",
       "      <td>1.731750e-04</td>\n",
       "      <td>1.087353e-04</td>\n",
       "      <td>9.991068e-01</td>\n",
       "      <td>3.692519e-07</td>\n",
       "      <td>9.420779e-06</td>\n",
       "      <td>7.094758e-06</td>\n",
       "    </tr>\n",
       "    <tr>\n",
       "      <th>3886</th>\n",
       "      <td>images/image_27993</td>\n",
       "      <td>4.331751e-04</td>\n",
       "      <td>3.593836e-01</td>\n",
       "      <td>8.698704e-03</td>\n",
       "      <td>2.423366e-02</td>\n",
       "      <td>1.883021e-01</td>\n",
       "      <td>1.114208e-01</td>\n",
       "      <td>1.522490e-02</td>\n",
       "      <td>7.070496e-02</td>\n",
       "      <td>1.036720e-02</td>\n",
       "      <td>2.112308e-01</td>\n",
       "    </tr>\n",
       "    <tr>\n",
       "      <th>2565</th>\n",
       "      <td>images/image_27994</td>\n",
       "      <td>9.746439e-06</td>\n",
       "      <td>2.314318e-06</td>\n",
       "      <td>5.685226e-06</td>\n",
       "      <td>1.319364e-06</td>\n",
       "      <td>3.998869e-04</td>\n",
       "      <td>4.024515e-06</td>\n",
       "      <td>1.253004e-06</td>\n",
       "      <td>1.070993e-04</td>\n",
       "      <td>1.961458e-04</td>\n",
       "      <td>9.992725e-01</td>\n",
       "    </tr>\n",
       "    <tr>\n",
       "      <th>11678</th>\n",
       "      <td>images/image_27995</td>\n",
       "      <td>1.197855e-04</td>\n",
       "      <td>3.302347e-04</td>\n",
       "      <td>3.711227e-03</td>\n",
       "      <td>6.675936e-04</td>\n",
       "      <td>1.535721e-03</td>\n",
       "      <td>1.384831e-03</td>\n",
       "      <td>1.227000e-05</td>\n",
       "      <td>9.904236e-01</td>\n",
       "      <td>2.706851e-05</td>\n",
       "      <td>1.787565e-03</td>\n",
       "    </tr>\n",
       "    <tr>\n",
       "      <th>11360</th>\n",
       "      <td>images/image_27996</td>\n",
       "      <td>6.783472e-05</td>\n",
       "      <td>1.355634e-05</td>\n",
       "      <td>1.614063e-05</td>\n",
       "      <td>1.455923e-04</td>\n",
       "      <td>7.877593e-05</td>\n",
       "      <td>1.048696e-05</td>\n",
       "      <td>4.500783e-06</td>\n",
       "      <td>4.760275e-04</td>\n",
       "      <td>1.201361e-04</td>\n",
       "      <td>9.990667e-01</td>\n",
       "    </tr>\n",
       "    <tr>\n",
       "      <th>1108</th>\n",
       "      <td>images/image_27997</td>\n",
       "      <td>2.114844e-06</td>\n",
       "      <td>1.474586e-04</td>\n",
       "      <td>6.612960e-04</td>\n",
       "      <td>9.035866e-05</td>\n",
       "      <td>3.488018e-03</td>\n",
       "      <td>5.145119e-04</td>\n",
       "      <td>7.080363e-07</td>\n",
       "      <td>9.906805e-01</td>\n",
       "      <td>8.803150e-06</td>\n",
       "      <td>4.406221e-03</td>\n",
       "    </tr>\n",
       "    <tr>\n",
       "      <th>14657</th>\n",
       "      <td>images/image_27998</td>\n",
       "      <td>3.642933e-08</td>\n",
       "      <td>2.329168e-06</td>\n",
       "      <td>7.442865e-05</td>\n",
       "      <td>9.961688e-01</td>\n",
       "      <td>5.639962e-06</td>\n",
       "      <td>3.665292e-03</td>\n",
       "      <td>2.148565e-07</td>\n",
       "      <td>2.593042e-05</td>\n",
       "      <td>7.250942e-06</td>\n",
       "      <td>4.997399e-05</td>\n",
       "    </tr>\n",
       "    <tr>\n",
       "      <th>13897</th>\n",
       "      <td>images/image_27999</td>\n",
       "      <td>9.336454e-06</td>\n",
       "      <td>1.811632e-05</td>\n",
       "      <td>2.600914e-04</td>\n",
       "      <td>7.960219e-05</td>\n",
       "      <td>3.267375e-02</td>\n",
       "      <td>1.710237e-05</td>\n",
       "      <td>1.063317e-05</td>\n",
       "      <td>4.468842e-03</td>\n",
       "      <td>2.317138e-04</td>\n",
       "      <td>9.622309e-01</td>\n",
       "    </tr>\n",
       "    <tr>\n",
       "      <th>21153</th>\n",
       "      <td>images/image_28000</td>\n",
       "      <td>5.663489e-04</td>\n",
       "      <td>4.018206e-06</td>\n",
       "      <td>9.313517e-01</td>\n",
       "      <td>3.303715e-03</td>\n",
       "      <td>9.286686e-05</td>\n",
       "      <td>1.260208e-04</td>\n",
       "      <td>1.642860e-04</td>\n",
       "      <td>5.015583e-06</td>\n",
       "      <td>6.313462e-02</td>\n",
       "      <td>1.251404e-03</td>\n",
       "    </tr>\n",
       "  </tbody>\n",
       "</table>\n",
       "<p>28000 rows × 11 columns</p>\n",
       "</div>"
      ],
      "text/plain": [
       "                       id             0             1             2  \\\n",
       "25899  images/image_00001  2.691638e-05  9.692266e-07  9.993126e-01   \n",
       "24075  images/image_00002  9.935389e-01  3.356904e-06  1.556437e-03   \n",
       "27041  images/image_00003  1.166208e-04  2.418933e-04  2.656803e-02   \n",
       "14035  images/image_00004  1.694572e-01  6.037720e-04  9.850350e-02   \n",
       "4611   images/image_00005  1.442330e-05  5.753614e-06  1.625855e-01   \n",
       "521    images/image_00006  1.155822e-05  3.928296e-06  5.397513e-04   \n",
       "18897  images/image_00007  9.987077e-01  6.984700e-07  3.262000e-04   \n",
       "16044  images/image_00008  2.407836e-05  5.075082e-06  1.924582e-02   \n",
       "12     images/image_00009  9.999590e-01  9.276563e-08  6.466858e-06   \n",
       "11293  images/image_00010  6.509584e-08  1.514222e-06  1.003798e-03   \n",
       "27459  images/image_00011  4.364000e-05  3.508131e-07  1.399356e-04   \n",
       "16823  images/image_00012  2.972118e-05  3.342316e-04  3.588979e-04   \n",
       "22535  images/image_00013  7.945213e-06  3.926909e-05  4.564765e-04   \n",
       "17204  images/image_00014  9.998789e-01  5.157312e-07  5.805025e-06   \n",
       "3422   images/image_00015  1.381648e-05  7.491046e-05  1.706050e-04   \n",
       "2547   images/image_00016  1.807367e-04  6.826245e-07  6.469737e-04   \n",
       "19667  images/image_00017  5.464779e-04  5.911038e-05  3.053701e-03   \n",
       "4051   images/image_00018  1.981022e-04  9.981963e-01  5.008002e-06   \n",
       "2497   images/image_00019  2.246938e-06  1.033220e-06  1.852946e-05   \n",
       "27112  images/image_00020  9.999037e-01  2.263993e-06  5.205621e-06   \n",
       "10198  images/image_00021  3.074641e-07  2.171874e-07  6.073244e-06   \n",
       "19027  images/image_00022  3.391220e-07  9.999943e-01  2.863053e-09   \n",
       "10783  images/image_00023  1.198064e-06  9.991344e-01  1.262784e-07   \n",
       "21203  images/image_00024  6.374382e-06  1.204190e-05  5.370948e-04   \n",
       "73     images/image_00025  1.996910e-05  4.999039e-04  8.077397e-04   \n",
       "3565   images/image_00026  1.051774e-06  2.516416e-05  2.832649e-05   \n",
       "24284  images/image_00027  1.221722e-06  5.356087e-08  9.990344e-01   \n",
       "12175  images/image_00028  7.380530e-04  2.603630e-05  9.530125e-04   \n",
       "11318  images/image_00029  2.593028e-06  1.174407e-03  2.243594e-05   \n",
       "6250   images/image_00030  4.411403e-06  1.046311e-04  3.542973e-05   \n",
       "...                   ...           ...           ...           ...   \n",
       "2691   images/image_27971  4.769982e-06  6.758979e-07  1.298198e-05   \n",
       "21785  images/image_27972  8.388026e-01  1.463872e-04  1.099758e-03   \n",
       "275    images/image_27973  1.797820e-07  5.421323e-06  1.480164e-05   \n",
       "3163   images/image_27974  2.928934e-05  2.099646e-06  4.815600e-04   \n",
       "15442  images/image_27975  9.978290e-01  5.765286e-06  2.706974e-04   \n",
       "13812  images/image_27976  7.827274e-03  7.071571e-05  9.187247e-01   \n",
       "18275  images/image_27977  1.258814e-04  4.870546e-06  5.506211e-05   \n",
       "5923   images/image_27978  7.860251e-01  2.093568e-05  9.694662e-02   \n",
       "2073   images/image_27979  8.582774e-06  9.998751e-01  2.620644e-07   \n",
       "11808  images/image_27980  7.653184e-04  4.768783e-04  3.962586e-04   \n",
       "21228  images/image_27981  4.186696e-04  1.809161e-05  1.065770e-02   \n",
       "23170  images/image_27982  4.341459e-07  9.999800e-01  1.424011e-08   \n",
       "2753   images/image_27983  2.941284e-03  9.287564e-01  8.779286e-05   \n",
       "23452  images/image_27984  9.734671e-01  8.678957e-05  3.862142e-03   \n",
       "19790  images/image_27985  2.191380e-06  3.249614e-04  2.883028e-05   \n",
       "6806   images/image_27986  2.832478e-04  2.392491e-06  7.356560e-03   \n",
       "27472  images/image_27987  7.821506e-04  2.871056e-04  9.447408e-01   \n",
       "13647  images/image_27988  1.914330e-03  1.927892e-04  9.747282e-01   \n",
       "9908   images/image_27989  7.808317e-03  4.163197e-03  1.553730e-04   \n",
       "26933  images/image_27990  3.024954e-03  2.462861e-03  1.605954e-02   \n",
       "120    images/image_27991  9.693112e-08  6.901848e-06  1.298611e-04   \n",
       "5318   images/image_27992  5.836228e-04  2.390901e-06  6.195450e-06   \n",
       "3886   images/image_27993  4.331751e-04  3.593836e-01  8.698704e-03   \n",
       "2565   images/image_27994  9.746439e-06  2.314318e-06  5.685226e-06   \n",
       "11678  images/image_27995  1.197855e-04  3.302347e-04  3.711227e-03   \n",
       "11360  images/image_27996  6.783472e-05  1.355634e-05  1.614063e-05   \n",
       "1108   images/image_27997  2.114844e-06  1.474586e-04  6.612960e-04   \n",
       "14657  images/image_27998  3.642933e-08  2.329168e-06  7.442865e-05   \n",
       "13897  images/image_27999  9.336454e-06  1.811632e-05  2.600914e-04   \n",
       "21153  images/image_28000  5.663489e-04  4.018206e-06  9.313517e-01   \n",
       "\n",
       "                  3             4             5             6             7  \\\n",
       "25899  3.060399e-04  1.277185e-05  1.077775e-04  1.881185e-05  8.126686e-05   \n",
       "24075  1.221404e-03  1.338354e-05  1.653342e-03  5.518065e-04  1.964072e-04   \n",
       "27041  9.555443e-04  1.733194e-03  7.310199e-05  1.077047e-04  4.176316e-03   \n",
       "14035  6.406011e-02  1.285445e-02  3.484404e-02  5.497239e-02  1.290488e-01   \n",
       "4611   8.125688e-01  2.674334e-06  4.290963e-04  1.641985e-04  1.415647e-05   \n",
       "521    4.625386e-04  4.450369e-05  1.786039e-03  2.366603e-06  9.948862e-01   \n",
       "18897  1.289613e-04  8.057981e-06  4.880899e-05  1.244171e-04  8.627056e-06   \n",
       "16044  9.784648e-01  1.208425e-05  1.995992e-03  2.306931e-06  1.458786e-04   \n",
       "12     1.598961e-06  5.103801e-08  8.402802e-07  2.368463e-05  8.774686e-08   \n",
       "11293  9.951102e-01  2.245174e-07  3.862418e-03  3.780420e-07  1.857035e-06   \n",
       "27459  6.208632e-03  1.052273e-05  9.934431e-01  6.851165e-05  3.338090e-05   \n",
       "16823  3.072456e-04  2.289679e-05  9.215106e-06  1.048486e-06  9.975986e-01   \n",
       "22535  3.601633e-03  9.845011e-01  1.047438e-03  8.376438e-05  7.045063e-03   \n",
       "17204  3.998040e-07  1.100480e-06  2.745642e-07  9.549048e-05  5.882711e-07   \n",
       "3422   6.146478e-05  9.921797e-01  8.107789e-05  1.253077e-04  3.647378e-03   \n",
       "2547   5.199091e-01  1.295445e-07  4.790230e-01  2.374918e-05  8.388505e-06   \n",
       "19667  9.864414e-01  1.953937e-04  7.628922e-03  3.503875e-04  4.201956e-05   \n",
       "4051   1.714441e-06  6.524028e-04  9.156573e-07  5.614243e-05  7.471971e-04   \n",
       "2497   2.271831e-06  6.795173e-05  1.085065e-06  2.227836e-06  6.005200e-05   \n",
       "27112  4.787961e-06  2.426169e-06  1.481973e-06  1.197180e-05  1.346353e-06   \n",
       "10198  8.064708e-08  7.673951e-05  2.046723e-07  1.736748e-07  4.962473e-05   \n",
       "19027  3.646532e-09  4.159456e-06  1.923466e-08  1.088185e-06  3.984627e-07   \n",
       "10783  2.319458e-07  3.323312e-04  6.244130e-08  5.085334e-06  5.257725e-04   \n",
       "21203  2.534961e-03  5.343415e-06  9.955496e-01  1.026051e-06  9.732104e-04   \n",
       "73     3.546494e-04  1.151375e-03  5.605815e-04  2.247031e-05  9.937671e-01   \n",
       "3565   1.732748e-05  9.974550e-01  1.475081e-04  1.015468e-05  7.792903e-04   \n",
       "24284  2.471540e-04  8.524836e-07  2.007937e-06  8.246971e-06  2.997304e-08   \n",
       "12175  1.399105e-04  2.721211e-05  1.793030e-03  3.856488e-06  8.574938e-01   \n",
       "11318  6.087303e-05  9.222462e-01  3.768775e-05  2.872011e-06  7.407704e-02   \n",
       "6250   3.333295e-06  1.131802e-04  6.753029e-06  7.549439e-07  9.996568e-01   \n",
       "...             ...           ...           ...           ...           ...   \n",
       "2691   4.424449e-04  1.463031e-06  9.993593e-01  1.868190e-05  5.075992e-06   \n",
       "21785  2.638823e-04  6.966267e-05  1.070926e-02  1.846236e-02  1.098096e-03   \n",
       "275    7.326104e-07  9.998922e-01  2.332852e-06  3.240483e-05  1.612310e-05   \n",
       "3163   5.392481e-04  2.296163e-06  5.179653e-06  3.699125e-05  2.336947e-06   \n",
       "15442  1.453737e-04  2.240713e-06  6.106951e-05  9.172853e-04  4.100617e-06   \n",
       "13812  3.125735e-02  1.112537e-03  7.168274e-03  6.781606e-03  7.806859e-03   \n",
       "18275  4.506901e-05  6.091074e-06  7.540035e-05  9.996072e-01  5.964922e-08   \n",
       "5923   5.121160e-02  5.964880e-05  6.558125e-03  5.300462e-02  1.541568e-04   \n",
       "2073   1.878433e-07  8.445502e-05  3.457852e-07  2.572580e-05  3.562644e-06   \n",
       "11808  1.222445e-02  1.103327e-03  6.531953e-04  2.846497e-04  1.499867e-03   \n",
       "21228  8.702742e-01  3.272991e-04  1.168294e-01  5.664658e-05  9.193140e-05   \n",
       "23170  6.107692e-08  8.491483e-06  4.011494e-08  1.628304e-06  8.694511e-06   \n",
       "2753   1.298070e-05  6.304122e-02  3.273020e-05  3.467624e-03  1.096908e-03   \n",
       "23452  1.625343e-03  8.279979e-04  2.297417e-03  1.337956e-02  2.290097e-04   \n",
       "19790  4.886012e-07  9.859697e-01  4.515908e-06  1.555618e-05  1.359361e-02   \n",
       "6806   9.261383e-01  2.495642e-06  6.560925e-02  1.201938e-05  1.369809e-04   \n",
       "27472  9.346063e-03  1.077934e-02  1.129871e-02  1.858358e-02  3.148841e-04   \n",
       "13647  1.563297e-02  8.750794e-04  1.644925e-04  5.349327e-03  4.698348e-05   \n",
       "9908   1.621531e-03  4.862837e-03  8.899868e-05  4.645474e-04  7.466378e-02   \n",
       "26933  5.341645e-03  2.445293e-02  2.035673e-01  7.429180e-01  3.621853e-04   \n",
       "120    3.080487e-06  5.823562e-06  1.145663e-05  6.384152e-08  9.998398e-01   \n",
       "5318   2.152695e-06  1.731750e-04  1.087353e-04  9.991068e-01  3.692519e-07   \n",
       "3886   2.423366e-02  1.883021e-01  1.114208e-01  1.522490e-02  7.070496e-02   \n",
       "2565   1.319364e-06  3.998869e-04  4.024515e-06  1.253004e-06  1.070993e-04   \n",
       "11678  6.675936e-04  1.535721e-03  1.384831e-03  1.227000e-05  9.904236e-01   \n",
       "11360  1.455923e-04  7.877593e-05  1.048696e-05  4.500783e-06  4.760275e-04   \n",
       "1108   9.035866e-05  3.488018e-03  5.145119e-04  7.080363e-07  9.906805e-01   \n",
       "14657  9.961688e-01  5.639962e-06  3.665292e-03  2.148565e-07  2.593042e-05   \n",
       "13897  7.960219e-05  3.267375e-02  1.710237e-05  1.063317e-05  4.468842e-03   \n",
       "21153  3.303715e-03  9.286686e-05  1.260208e-04  1.642860e-04  5.015583e-06   \n",
       "\n",
       "                  8             9  \n",
       "25899  1.242199e-04  8.420839e-06  \n",
       "24075  4.059412e-04  8.592283e-04  \n",
       "27041  2.642923e-03  9.633847e-01  \n",
       "14035  2.022146e-02  4.154344e-01  \n",
       "4611   2.411388e-02  1.016037e-04  \n",
       "521    6.598781e-05  2.197054e-03  \n",
       "18897  5.481416e-04  9.826887e-05  \n",
       "16044  3.962557e-05  6.410377e-05  \n",
       "12     3.318368e-06  4.792978e-06  \n",
       "11293  1.552560e-05  4.286043e-06  \n",
       "27459  3.101110e-05  2.068284e-05  \n",
       "16823  1.945202e-06  1.336484e-03  \n",
       "22535  2.233895e-05  3.194983e-03  \n",
       "17204  5.283797e-06  1.152667e-05  \n",
       "3422   2.320526e-04  3.414104e-03  \n",
       "2547   1.966809e-04  1.095151e-05  \n",
       "19667  1.043189e-03  6.393447e-04  \n",
       "4051   1.700569e-06  1.405718e-04  \n",
       "2497   1.235982e-03  9.986086e-01  \n",
       "27112  5.755167e-06  6.129853e-05  \n",
       "10198  1.894567e-04  9.996768e-01  \n",
       "19027  8.796683e-09  9.604824e-09  \n",
       "10783  3.607409e-07  1.365007e-07  \n",
       "21203  3.570072e-04  2.318454e-05  \n",
       "73     1.626498e-04  2.653428e-03  \n",
       "3565   5.533284e-05  1.481106e-03  \n",
       "24284  7.056774e-04  2.774713e-07  \n",
       "12175  4.176493e-04  1.384076e-01  \n",
       "11318  1.001661e-04  2.275685e-03  \n",
       "6250   3.868790e-07  7.450748e-05  \n",
       "...             ...           ...  \n",
       "2691   7.527849e-05  7.945884e-05  \n",
       "21785  9.671949e-04  1.283807e-01  \n",
       "275    1.894985e-05  1.682363e-05  \n",
       "3163   9.984001e-01  5.004226e-04  \n",
       "15442  2.594643e-04  5.048008e-04  \n",
       "13812  8.865112e-03  1.038558e-02  \n",
       "18275  7.910054e-05  1.086926e-06  \n",
       "5923   5.593081e-03  4.258585e-04  \n",
       "2073   1.029917e-06  1.032011e-06  \n",
       "11808  1.724651e-02  9.653496e-01  \n",
       "21228  1.438080e-04  1.182246e-03  \n",
       "23170  1.724282e-07  1.048563e-07  \n",
       "2753   4.539896e-04  1.090726e-04  \n",
       "23452  1.316823e-03  2.908002e-03  \n",
       "19790  1.335402e-05  4.672035e-05  \n",
       "6806   2.738212e-04  1.847232e-04  \n",
       "27472  3.502569e-03  3.650240e-04  \n",
       "13647  6.309856e-04  4.647022e-04  \n",
       "9908   4.503760e-03  9.016675e-01  \n",
       "26933  7.409258e-04  1.069587e-03  \n",
       "120    4.781470e-07  2.546408e-06  \n",
       "5318   9.420779e-06  7.094758e-06  \n",
       "3886   1.036720e-02  2.112308e-01  \n",
       "2565   1.961458e-04  9.992725e-01  \n",
       "11678  2.706851e-05  1.787565e-03  \n",
       "11360  1.201361e-04  9.990667e-01  \n",
       "1108   8.803150e-06  4.406221e-03  \n",
       "14657  7.250942e-06  4.997399e-05  \n",
       "13897  2.317138e-04  9.622309e-01  \n",
       "21153  6.313462e-02  1.251404e-03  \n",
       "\n",
       "[28000 rows x 11 columns]"
      ]
     },
     "execution_count": 50,
     "metadata": {},
     "output_type": "execute_result"
    }
   ],
   "source": [
    "df.sort_values(by=['id'])"
   ]
  },
  {
   "cell_type": "code",
   "execution_count": 48,
   "metadata": {},
   "outputs": [
    {
     "data": {
      "text/html": [
       "<div>\n",
       "<style scoped>\n",
       "    .dataframe tbody tr th:only-of-type {\n",
       "        vertical-align: middle;\n",
       "    }\n",
       "\n",
       "    .dataframe tbody tr th {\n",
       "        vertical-align: top;\n",
       "    }\n",
       "\n",
       "    .dataframe thead th {\n",
       "        text-align: right;\n",
       "    }\n",
       "</style>\n",
       "<table border=\"1\" class=\"dataframe\">\n",
       "  <thead>\n",
       "    <tr style=\"text-align: right;\">\n",
       "      <th></th>\n",
       "      <th>id</th>\n",
       "      <th>0</th>\n",
       "      <th>1</th>\n",
       "      <th>2</th>\n",
       "      <th>3</th>\n",
       "      <th>4</th>\n",
       "      <th>5</th>\n",
       "      <th>6</th>\n",
       "      <th>7</th>\n",
       "      <th>8</th>\n",
       "      <th>9</th>\n",
       "    </tr>\n",
       "  </thead>\n",
       "  <tbody>\n",
       "    <tr>\n",
       "      <th>0</th>\n",
       "      <td>images/image_12008</td>\n",
       "      <td>1.201619e-04</td>\n",
       "      <td>1.195011e-04</td>\n",
       "      <td>0.000014</td>\n",
       "      <td>0.000059</td>\n",
       "      <td>0.001522</td>\n",
       "      <td>0.000002</td>\n",
       "      <td>0.000002</td>\n",
       "      <td>0.976517</td>\n",
       "      <td>0.000018</td>\n",
       "      <td>0.021625</td>\n",
       "    </tr>\n",
       "    <tr>\n",
       "      <th>1</th>\n",
       "      <td>images/image_16578</td>\n",
       "      <td>2.170098e-04</td>\n",
       "      <td>9.112447e-06</td>\n",
       "      <td>0.012794</td>\n",
       "      <td>0.028274</td>\n",
       "      <td>0.000660</td>\n",
       "      <td>0.199208</td>\n",
       "      <td>0.082642</td>\n",
       "      <td>0.000149</td>\n",
       "      <td>0.664870</td>\n",
       "      <td>0.011178</td>\n",
       "    </tr>\n",
       "    <tr>\n",
       "      <th>2</th>\n",
       "      <td>images/image_15071</td>\n",
       "      <td>4.039267e-07</td>\n",
       "      <td>2.135690e-04</td>\n",
       "      <td>0.000007</td>\n",
       "      <td>0.000001</td>\n",
       "      <td>0.997701</td>\n",
       "      <td>0.000113</td>\n",
       "      <td>0.000015</td>\n",
       "      <td>0.001851</td>\n",
       "      <td>0.000026</td>\n",
       "      <td>0.000070</td>\n",
       "    </tr>\n",
       "    <tr>\n",
       "      <th>3</th>\n",
       "      <td>images/image_26364</td>\n",
       "      <td>7.658276e-05</td>\n",
       "      <td>1.945283e-05</td>\n",
       "      <td>0.989985</td>\n",
       "      <td>0.007990</td>\n",
       "      <td>0.000025</td>\n",
       "      <td>0.001293</td>\n",
       "      <td>0.000391</td>\n",
       "      <td>0.000129</td>\n",
       "      <td>0.000053</td>\n",
       "      <td>0.000038</td>\n",
       "    </tr>\n",
       "    <tr>\n",
       "      <th>4</th>\n",
       "      <td>images/image_16576</td>\n",
       "      <td>9.408084e-06</td>\n",
       "      <td>7.616359e-07</td>\n",
       "      <td>0.980246</td>\n",
       "      <td>0.000083</td>\n",
       "      <td>0.000152</td>\n",
       "      <td>0.000003</td>\n",
       "      <td>0.000018</td>\n",
       "      <td>0.000003</td>\n",
       "      <td>0.019422</td>\n",
       "      <td>0.000063</td>\n",
       "    </tr>\n",
       "  </tbody>\n",
       "</table>\n",
       "</div>"
      ],
      "text/plain": [
       "                   id             0             1         2         3  \\\n",
       "0  images/image_12008  1.201619e-04  1.195011e-04  0.000014  0.000059   \n",
       "1  images/image_16578  2.170098e-04  9.112447e-06  0.012794  0.028274   \n",
       "2  images/image_15071  4.039267e-07  2.135690e-04  0.000007  0.000001   \n",
       "3  images/image_26364  7.658276e-05  1.945283e-05  0.989985  0.007990   \n",
       "4  images/image_16576  9.408084e-06  7.616359e-07  0.980246  0.000083   \n",
       "\n",
       "          4         5         6         7         8         9  \n",
       "0  0.001522  0.000002  0.000002  0.976517  0.000018  0.021625  \n",
       "1  0.000660  0.199208  0.082642  0.000149  0.664870  0.011178  \n",
       "2  0.997701  0.000113  0.000015  0.001851  0.000026  0.000070  \n",
       "3  0.000025  0.001293  0.000391  0.000129  0.000053  0.000038  \n",
       "4  0.000152  0.000003  0.000018  0.000003  0.019422  0.000063  "
      ]
     },
     "execution_count": 48,
     "metadata": {},
     "output_type": "execute_result"
    }
   ],
   "source": [
    "df.head()"
   ]
  },
  {
   "cell_type": "code",
   "execution_count": 51,
   "metadata": {},
   "outputs": [],
   "source": [
    "final_array = np.array(df)"
   ]
  },
  {
   "cell_type": "code",
   "execution_count": 56,
   "metadata": {},
   "outputs": [],
   "source": [
    "r,c = final_array.shape"
   ]
  },
  {
   "cell_type": "code",
   "execution_count": 105,
   "metadata": {},
   "outputs": [],
   "source": [
    "def create_submission(input_array):\n",
    "    image_index, predicted_number = [], []\n",
    "    for row_index in np.arange(r):\n",
    "        image_name = final_array[row_index,0]\n",
    "        image_index.append(int(image_name[13:18]))\n",
    "        \n",
    "        predicted_number.append(np.where(final_array[row_index,1:] == np.max(final_array[row_index,1:]))[0][0])\n",
    "                \n",
    "    \n",
    "    return image_index, predicted_number\n"
   ]
  },
  {
   "cell_type": "code",
   "execution_count": 106,
   "metadata": {},
   "outputs": [],
   "source": [
    "index, value = create_submission(final_array)"
   ]
  },
  {
   "cell_type": "code",
   "execution_count": 109,
   "metadata": {},
   "outputs": [],
   "source": [
    "combined_values = np.c_[index,value]"
   ]
  },
  {
   "cell_type": "code",
   "execution_count": 115,
   "metadata": {},
   "outputs": [
    {
     "data": {
      "text/plain": [
       "array([[12008,     7],\n",
       "       [16578,     8],\n",
       "       [15071,     4],\n",
       "       ...,\n",
       "       [  105,     7],\n",
       "       [  758,     1],\n",
       "       [ 5688,     8]])"
      ]
     },
     "execution_count": 115,
     "metadata": {},
     "output_type": "execute_result"
    }
   ],
   "source": [
    "combined_values"
   ]
  },
  {
   "cell_type": "code",
   "execution_count": 116,
   "metadata": {},
   "outputs": [],
   "source": [
    "combined_values = combined_values[combined_values[:,0].argsort()]"
   ]
  },
  {
   "cell_type": "code",
   "execution_count": 117,
   "metadata": {},
   "outputs": [],
   "source": [
    "np.savetxt(output_directory+'submission.csv', combined_values,header='ImageId,Label',delimiter=\",\", fmt=\"%s\")"
   ]
  }
 ],
 "metadata": {
  "kernelspec": {
   "display_name": "Python 3",
   "language": "python",
   "name": "python3"
  },
  "language_info": {
   "codemirror_mode": {
    "name": "ipython",
    "version": 3
   },
   "file_extension": ".py",
   "mimetype": "text/x-python",
   "name": "python",
   "nbconvert_exporter": "python",
   "pygments_lexer": "ipython3",
   "version": "3.7.1"
  }
 },
 "nbformat": 4,
 "nbformat_minor": 2
}
